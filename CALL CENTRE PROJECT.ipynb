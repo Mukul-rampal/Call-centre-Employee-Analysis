{
 "cells": [
  {
   "cell_type": "code",
   "execution_count": 1,
   "metadata": {},
   "outputs": [],
   "source": [
    "import pandas as pd"
   ]
  },
  {
   "cell_type": "code",
   "execution_count": 2,
   "metadata": {},
   "outputs": [],
   "source": [
    "from ipywidgets import interact"
   ]
  },
  {
   "cell_type": "code",
   "execution_count": 3,
   "metadata": {},
   "outputs": [],
   "source": [
    "import numpy as np"
   ]
  },
  {
   "cell_type": "code",
   "execution_count": 4,
   "metadata": {},
   "outputs": [],
   "source": [
    "df=pd.read_excel(\"Call_Centre.xlsx\")"
   ]
  },
  {
   "cell_type": "code",
   "execution_count": 5,
   "metadata": {},
   "outputs": [
    {
     "data": {
      "text/html": [
       "<div>\n",
       "<style scoped>\n",
       "    .dataframe tbody tr th:only-of-type {\n",
       "        vertical-align: middle;\n",
       "    }\n",
       "\n",
       "    .dataframe tbody tr th {\n",
       "        vertical-align: top;\n",
       "    }\n",
       "\n",
       "    .dataframe thead th {\n",
       "        text-align: right;\n",
       "    }\n",
       "</style>\n",
       "<table border=\"1\" class=\"dataframe\">\n",
       "  <thead>\n",
       "    <tr style=\"text-align: right;\">\n",
       "      <th></th>\n",
       "      <th>Call Id</th>\n",
       "      <th>Date</th>\n",
       "      <th>Agent</th>\n",
       "      <th>Department</th>\n",
       "      <th>Answered (Y/N)</th>\n",
       "      <th>Resolved</th>\n",
       "      <th>Speed of Answer</th>\n",
       "      <th>AvgTalkDuration</th>\n",
       "      <th>Satisfaction rating</th>\n",
       "      <th>Column1</th>\n",
       "    </tr>\n",
       "  </thead>\n",
       "  <tbody>\n",
       "    <tr>\n",
       "      <td>0</td>\n",
       "      <td>ID0001</td>\n",
       "      <td>2016-01-01 09:12:58.000</td>\n",
       "      <td>Diane</td>\n",
       "      <td>Washing Machine</td>\n",
       "      <td>Y</td>\n",
       "      <td>Y</td>\n",
       "      <td>109.0</td>\n",
       "      <td>00:02:23.210000</td>\n",
       "      <td>3.0</td>\n",
       "      <td>False</td>\n",
       "    </tr>\n",
       "    <tr>\n",
       "      <td>1</td>\n",
       "      <td>ID0002</td>\n",
       "      <td>2016-01-01 09:12:57.600</td>\n",
       "      <td>Becky</td>\n",
       "      <td>Air Conditioner</td>\n",
       "      <td>Y</td>\n",
       "      <td>N</td>\n",
       "      <td>70.0</td>\n",
       "      <td>00:04:02.323000</td>\n",
       "      <td>3.0</td>\n",
       "      <td>False</td>\n",
       "    </tr>\n",
       "    <tr>\n",
       "      <td>2</td>\n",
       "      <td>ID0003</td>\n",
       "      <td>2016-01-01 09:47:31.200</td>\n",
       "      <td>Stewart</td>\n",
       "      <td>Washing Machine</td>\n",
       "      <td>Y</td>\n",
       "      <td>Y</td>\n",
       "      <td>10.0</td>\n",
       "      <td>00:02:11.202000</td>\n",
       "      <td>3.0</td>\n",
       "      <td>False</td>\n",
       "    </tr>\n",
       "    <tr>\n",
       "      <td>3</td>\n",
       "      <td>ID0004</td>\n",
       "      <td>2016-01-01 09:47:31.200</td>\n",
       "      <td>Greg</td>\n",
       "      <td>Washing Machine</td>\n",
       "      <td>Y</td>\n",
       "      <td>Y</td>\n",
       "      <td>53.0</td>\n",
       "      <td>00:00:37.481000</td>\n",
       "      <td>2.0</td>\n",
       "      <td>False</td>\n",
       "    </tr>\n",
       "    <tr>\n",
       "      <td>4</td>\n",
       "      <td>ID0005</td>\n",
       "      <td>2016-01-01 10:00:28.800</td>\n",
       "      <td>Becky</td>\n",
       "      <td>Toaster</td>\n",
       "      <td>Y</td>\n",
       "      <td>Y</td>\n",
       "      <td>95.0</td>\n",
       "      <td>00:01:00.083000</td>\n",
       "      <td>3.0</td>\n",
       "      <td>False</td>\n",
       "    </tr>\n",
       "  </tbody>\n",
       "</table>\n",
       "</div>"
      ],
      "text/plain": [
       "  Call Id                    Date    Agent       Department Answered (Y/N)  \\\n",
       "0  ID0001 2016-01-01 09:12:58.000    Diane  Washing Machine              Y   \n",
       "1  ID0002 2016-01-01 09:12:57.600    Becky  Air Conditioner              Y   \n",
       "2  ID0003 2016-01-01 09:47:31.200  Stewart  Washing Machine              Y   \n",
       "3  ID0004 2016-01-01 09:47:31.200     Greg  Washing Machine              Y   \n",
       "4  ID0005 2016-01-01 10:00:28.800    Becky          Toaster              Y   \n",
       "\n",
       "  Resolved  Speed of Answer  AvgTalkDuration  Satisfaction rating  Column1  \n",
       "0        Y            109.0  00:02:23.210000                  3.0    False  \n",
       "1        N             70.0  00:04:02.323000                  3.0    False  \n",
       "2        Y             10.0  00:02:11.202000                  3.0    False  \n",
       "3        Y             53.0  00:00:37.481000                  2.0    False  \n",
       "4        Y             95.0  00:01:00.083000                  3.0    False  "
      ]
     },
     "execution_count": 5,
     "metadata": {},
     "output_type": "execute_result"
    }
   ],
   "source": [
    "df.head(5)"
   ]
  },
  {
   "cell_type": "code",
   "execution_count": 6,
   "metadata": {},
   "outputs": [
    {
     "data": {
      "text/plain": [
       "(1772, 10)"
      ]
     },
     "execution_count": 6,
     "metadata": {},
     "output_type": "execute_result"
    }
   ],
   "source": [
    "df.shape"
   ]
  },
  {
   "cell_type": "code",
   "execution_count": 7,
   "metadata": {},
   "outputs": [],
   "source": [
    "df['week']=df['Date'].dt.week"
   ]
  },
  {
   "cell_type": "code",
   "execution_count": 8,
   "metadata": {},
   "outputs": [
    {
     "data": {
      "text/html": [
       "<div>\n",
       "<style scoped>\n",
       "    .dataframe tbody tr th:only-of-type {\n",
       "        vertical-align: middle;\n",
       "    }\n",
       "\n",
       "    .dataframe tbody tr th {\n",
       "        vertical-align: top;\n",
       "    }\n",
       "\n",
       "    .dataframe thead th {\n",
       "        text-align: right;\n",
       "    }\n",
       "</style>\n",
       "<table border=\"1\" class=\"dataframe\">\n",
       "  <thead>\n",
       "    <tr style=\"text-align: right;\">\n",
       "      <th></th>\n",
       "      <th>Call Id</th>\n",
       "      <th>Date</th>\n",
       "      <th>Agent</th>\n",
       "      <th>Department</th>\n",
       "      <th>Answered (Y/N)</th>\n",
       "      <th>Resolved</th>\n",
       "      <th>Speed of Answer</th>\n",
       "      <th>AvgTalkDuration</th>\n",
       "      <th>Satisfaction rating</th>\n",
       "      <th>Column1</th>\n",
       "      <th>week</th>\n",
       "    </tr>\n",
       "  </thead>\n",
       "  <tbody>\n",
       "    <tr>\n",
       "      <td>0</td>\n",
       "      <td>ID0001</td>\n",
       "      <td>2016-01-01 09:12:58.000</td>\n",
       "      <td>Diane</td>\n",
       "      <td>Washing Machine</td>\n",
       "      <td>Y</td>\n",
       "      <td>Y</td>\n",
       "      <td>109.0</td>\n",
       "      <td>00:02:23.210000</td>\n",
       "      <td>3.0</td>\n",
       "      <td>False</td>\n",
       "      <td>53</td>\n",
       "    </tr>\n",
       "    <tr>\n",
       "      <td>1</td>\n",
       "      <td>ID0002</td>\n",
       "      <td>2016-01-01 09:12:57.600</td>\n",
       "      <td>Becky</td>\n",
       "      <td>Air Conditioner</td>\n",
       "      <td>Y</td>\n",
       "      <td>N</td>\n",
       "      <td>70.0</td>\n",
       "      <td>00:04:02.323000</td>\n",
       "      <td>3.0</td>\n",
       "      <td>False</td>\n",
       "      <td>53</td>\n",
       "    </tr>\n",
       "    <tr>\n",
       "      <td>2</td>\n",
       "      <td>ID0003</td>\n",
       "      <td>2016-01-01 09:47:31.200</td>\n",
       "      <td>Stewart</td>\n",
       "      <td>Washing Machine</td>\n",
       "      <td>Y</td>\n",
       "      <td>Y</td>\n",
       "      <td>10.0</td>\n",
       "      <td>00:02:11.202000</td>\n",
       "      <td>3.0</td>\n",
       "      <td>False</td>\n",
       "      <td>53</td>\n",
       "    </tr>\n",
       "    <tr>\n",
       "      <td>3</td>\n",
       "      <td>ID0004</td>\n",
       "      <td>2016-01-01 09:47:31.200</td>\n",
       "      <td>Greg</td>\n",
       "      <td>Washing Machine</td>\n",
       "      <td>Y</td>\n",
       "      <td>Y</td>\n",
       "      <td>53.0</td>\n",
       "      <td>00:00:37.481000</td>\n",
       "      <td>2.0</td>\n",
       "      <td>False</td>\n",
       "      <td>53</td>\n",
       "    </tr>\n",
       "    <tr>\n",
       "      <td>4</td>\n",
       "      <td>ID0005</td>\n",
       "      <td>2016-01-01 10:00:28.800</td>\n",
       "      <td>Becky</td>\n",
       "      <td>Toaster</td>\n",
       "      <td>Y</td>\n",
       "      <td>Y</td>\n",
       "      <td>95.0</td>\n",
       "      <td>00:01:00.083000</td>\n",
       "      <td>3.0</td>\n",
       "      <td>False</td>\n",
       "      <td>53</td>\n",
       "    </tr>\n",
       "    <tr>\n",
       "      <td>...</td>\n",
       "      <td>...</td>\n",
       "      <td>...</td>\n",
       "      <td>...</td>\n",
       "      <td>...</td>\n",
       "      <td>...</td>\n",
       "      <td>...</td>\n",
       "      <td>...</td>\n",
       "      <td>...</td>\n",
       "      <td>...</td>\n",
       "      <td>...</td>\n",
       "      <td>...</td>\n",
       "    </tr>\n",
       "    <tr>\n",
       "      <td>595</td>\n",
       "      <td>ID0596</td>\n",
       "      <td>2016-01-11 10:26:24.000</td>\n",
       "      <td>Joe</td>\n",
       "      <td>Television</td>\n",
       "      <td>Y</td>\n",
       "      <td>Y</td>\n",
       "      <td>82.0</td>\n",
       "      <td>00:06:40.839000</td>\n",
       "      <td>3.0</td>\n",
       "      <td>False</td>\n",
       "      <td>2</td>\n",
       "    </tr>\n",
       "    <tr>\n",
       "      <td>596</td>\n",
       "      <td>ID0597</td>\n",
       "      <td>2016-01-11 10:32:09.600</td>\n",
       "      <td>Greg</td>\n",
       "      <td>Washing Machine</td>\n",
       "      <td>Y</td>\n",
       "      <td>Y</td>\n",
       "      <td>84.0</td>\n",
       "      <td>00:04:45.063000</td>\n",
       "      <td>3.0</td>\n",
       "      <td>False</td>\n",
       "      <td>2</td>\n",
       "    </tr>\n",
       "    <tr>\n",
       "      <td>597</td>\n",
       "      <td>ID0598</td>\n",
       "      <td>2016-01-11 10:32:09.600</td>\n",
       "      <td>Martha</td>\n",
       "      <td>Air Conditioner</td>\n",
       "      <td>Y</td>\n",
       "      <td>Y</td>\n",
       "      <td>50.0</td>\n",
       "      <td>00:06:05.890000</td>\n",
       "      <td>4.0</td>\n",
       "      <td>False</td>\n",
       "      <td>2</td>\n",
       "    </tr>\n",
       "    <tr>\n",
       "      <td>598</td>\n",
       "      <td>ID0599</td>\n",
       "      <td>2016-01-11 11:05:16.800</td>\n",
       "      <td>Martha</td>\n",
       "      <td>Fridge</td>\n",
       "      <td>N</td>\n",
       "      <td>N</td>\n",
       "      <td>NaN</td>\n",
       "      <td>NaN</td>\n",
       "      <td>NaN</td>\n",
       "      <td>False</td>\n",
       "      <td>2</td>\n",
       "    </tr>\n",
       "    <tr>\n",
       "      <td>599</td>\n",
       "      <td>ID0600</td>\n",
       "      <td>2016-01-11 11:05:16.800</td>\n",
       "      <td>Becky</td>\n",
       "      <td>Washing Machine</td>\n",
       "      <td>Y</td>\n",
       "      <td>Y</td>\n",
       "      <td>73.0</td>\n",
       "      <td>00:00:44.895000</td>\n",
       "      <td>3.0</td>\n",
       "      <td>False</td>\n",
       "      <td>2</td>\n",
       "    </tr>\n",
       "  </tbody>\n",
       "</table>\n",
       "<p>600 rows × 11 columns</p>\n",
       "</div>"
      ],
      "text/plain": [
       "    Call Id                    Date    Agent       Department Answered (Y/N)  \\\n",
       "0    ID0001 2016-01-01 09:12:58.000    Diane  Washing Machine              Y   \n",
       "1    ID0002 2016-01-01 09:12:57.600    Becky  Air Conditioner              Y   \n",
       "2    ID0003 2016-01-01 09:47:31.200  Stewart  Washing Machine              Y   \n",
       "3    ID0004 2016-01-01 09:47:31.200     Greg  Washing Machine              Y   \n",
       "4    ID0005 2016-01-01 10:00:28.800    Becky          Toaster              Y   \n",
       "..      ...                     ...      ...              ...            ...   \n",
       "595  ID0596 2016-01-11 10:26:24.000      Joe       Television              Y   \n",
       "596  ID0597 2016-01-11 10:32:09.600     Greg  Washing Machine              Y   \n",
       "597  ID0598 2016-01-11 10:32:09.600   Martha  Air Conditioner              Y   \n",
       "598  ID0599 2016-01-11 11:05:16.800   Martha           Fridge              N   \n",
       "599  ID0600 2016-01-11 11:05:16.800    Becky  Washing Machine              Y   \n",
       "\n",
       "    Resolved  Speed of Answer  AvgTalkDuration  Satisfaction rating  Column1  \\\n",
       "0          Y            109.0  00:02:23.210000                  3.0    False   \n",
       "1          N             70.0  00:04:02.323000                  3.0    False   \n",
       "2          Y             10.0  00:02:11.202000                  3.0    False   \n",
       "3          Y             53.0  00:00:37.481000                  2.0    False   \n",
       "4          Y             95.0  00:01:00.083000                  3.0    False   \n",
       "..       ...              ...              ...                  ...      ...   \n",
       "595        Y             82.0  00:06:40.839000                  3.0    False   \n",
       "596        Y             84.0  00:04:45.063000                  3.0    False   \n",
       "597        Y             50.0  00:06:05.890000                  4.0    False   \n",
       "598        N              NaN              NaN                  NaN    False   \n",
       "599        Y             73.0  00:00:44.895000                  3.0    False   \n",
       "\n",
       "     week  \n",
       "0      53  \n",
       "1      53  \n",
       "2      53  \n",
       "3      53  \n",
       "4      53  \n",
       "..    ...  \n",
       "595     2  \n",
       "596     2  \n",
       "597     2  \n",
       "598     2  \n",
       "599     2  \n",
       "\n",
       "[600 rows x 11 columns]"
      ]
     },
     "execution_count": 8,
     "metadata": {},
     "output_type": "execute_result"
    }
   ],
   "source": [
    "df.head(600)"
   ]
  },
  {
   "cell_type": "code",
   "execution_count": 9,
   "metadata": {},
   "outputs": [
    {
     "data": {
      "text/html": [
       "<div>\n",
       "<style scoped>\n",
       "    .dataframe tbody tr th:only-of-type {\n",
       "        vertical-align: middle;\n",
       "    }\n",
       "\n",
       "    .dataframe tbody tr th {\n",
       "        vertical-align: top;\n",
       "    }\n",
       "\n",
       "    .dataframe thead th {\n",
       "        text-align: right;\n",
       "    }\n",
       "</style>\n",
       "<table border=\"1\" class=\"dataframe\">\n",
       "  <thead>\n",
       "    <tr style=\"text-align: right;\">\n",
       "      <th></th>\n",
       "      <th>Call Id</th>\n",
       "      <th>Date</th>\n",
       "      <th>Agent</th>\n",
       "      <th>Department</th>\n",
       "      <th>Answered (Y/N)</th>\n",
       "      <th>Resolved</th>\n",
       "      <th>Speed of Answer</th>\n",
       "      <th>AvgTalkDuration</th>\n",
       "      <th>Satisfaction rating</th>\n",
       "      <th>Column1</th>\n",
       "      <th>week</th>\n",
       "    </tr>\n",
       "  </thead>\n",
       "  <tbody>\n",
       "    <tr>\n",
       "      <td>1767</td>\n",
       "      <td>ID1768</td>\n",
       "      <td>2016-01-31 16:56:38.400</td>\n",
       "      <td>Dan</td>\n",
       "      <td>Television</td>\n",
       "      <td>N</td>\n",
       "      <td>N</td>\n",
       "      <td>NaN</td>\n",
       "      <td>NaN</td>\n",
       "      <td>NaN</td>\n",
       "      <td>False</td>\n",
       "      <td>4</td>\n",
       "    </tr>\n",
       "    <tr>\n",
       "      <td>1768</td>\n",
       "      <td>ID1769</td>\n",
       "      <td>2016-01-31 17:08:09.600</td>\n",
       "      <td>Dan</td>\n",
       "      <td>Fridge</td>\n",
       "      <td>N</td>\n",
       "      <td>N</td>\n",
       "      <td>NaN</td>\n",
       "      <td>NaN</td>\n",
       "      <td>NaN</td>\n",
       "      <td>False</td>\n",
       "      <td>4</td>\n",
       "    </tr>\n",
       "    <tr>\n",
       "      <td>1769</td>\n",
       "      <td>ID1770</td>\n",
       "      <td>2016-01-31 17:08:09.600</td>\n",
       "      <td>Diane</td>\n",
       "      <td>Toaster</td>\n",
       "      <td>Y</td>\n",
       "      <td>Y</td>\n",
       "      <td>78.0</td>\n",
       "      <td>00:01:02.568000</td>\n",
       "      <td>4.0</td>\n",
       "      <td>False</td>\n",
       "      <td>4</td>\n",
       "    </tr>\n",
       "    <tr>\n",
       "      <td>1770</td>\n",
       "      <td>ID1771</td>\n",
       "      <td>2016-01-31 17:34:04.800</td>\n",
       "      <td>Jim</td>\n",
       "      <td>Fridge</td>\n",
       "      <td>Y</td>\n",
       "      <td>Y</td>\n",
       "      <td>91.0</td>\n",
       "      <td>00:02:58.667000</td>\n",
       "      <td>3.0</td>\n",
       "      <td>False</td>\n",
       "      <td>4</td>\n",
       "    </tr>\n",
       "    <tr>\n",
       "      <td>1771</td>\n",
       "      <td>ID1772</td>\n",
       "      <td>2016-01-31 17:34:04.800</td>\n",
       "      <td>Greg</td>\n",
       "      <td>Air Conditioner</td>\n",
       "      <td>Y</td>\n",
       "      <td>Y</td>\n",
       "      <td>121.0</td>\n",
       "      <td>00:06:01.008000</td>\n",
       "      <td>2.0</td>\n",
       "      <td>False</td>\n",
       "      <td>4</td>\n",
       "    </tr>\n",
       "  </tbody>\n",
       "</table>\n",
       "</div>"
      ],
      "text/plain": [
       "     Call Id                    Date  Agent       Department Answered (Y/N)  \\\n",
       "1767  ID1768 2016-01-31 16:56:38.400    Dan       Television              N   \n",
       "1768  ID1769 2016-01-31 17:08:09.600    Dan           Fridge              N   \n",
       "1769  ID1770 2016-01-31 17:08:09.600  Diane          Toaster              Y   \n",
       "1770  ID1771 2016-01-31 17:34:04.800    Jim           Fridge              Y   \n",
       "1771  ID1772 2016-01-31 17:34:04.800   Greg  Air Conditioner              Y   \n",
       "\n",
       "     Resolved  Speed of Answer  AvgTalkDuration  Satisfaction rating  Column1  \\\n",
       "1767        N              NaN              NaN                  NaN    False   \n",
       "1768        N              NaN              NaN                  NaN    False   \n",
       "1769        Y             78.0  00:01:02.568000                  4.0    False   \n",
       "1770        Y             91.0  00:02:58.667000                  3.0    False   \n",
       "1771        Y            121.0  00:06:01.008000                  2.0    False   \n",
       "\n",
       "      week  \n",
       "1767     4  \n",
       "1768     4  \n",
       "1769     4  \n",
       "1770     4  \n",
       "1771     4  "
      ]
     },
     "execution_count": 9,
     "metadata": {},
     "output_type": "execute_result"
    }
   ],
   "source": [
    "df.tail(5)"
   ]
  },
  {
   "cell_type": "code",
   "execution_count": 10,
   "metadata": {},
   "outputs": [
    {
     "name": "stdout",
     "output_type": "stream",
     "text": [
      "<class 'pandas.core.frame.DataFrame'>\n",
      "RangeIndex: 1772 entries, 0 to 1771\n",
      "Data columns (total 11 columns):\n",
      "Call Id                1772 non-null object\n",
      "Date                   1772 non-null datetime64[ns]\n",
      "Agent                  1772 non-null object\n",
      "Department             1772 non-null object\n",
      "Answered (Y/N)         1772 non-null object\n",
      "Resolved               1772 non-null object\n",
      "Speed of Answer        1455 non-null float64\n",
      "AvgTalkDuration        1455 non-null object\n",
      "Satisfaction rating    1455 non-null float64\n",
      "Column1                1772 non-null bool\n",
      "week                   1772 non-null int64\n",
      "dtypes: bool(1), datetime64[ns](1), float64(2), int64(1), object(6)\n",
      "memory usage: 140.3+ KB\n"
     ]
    }
   ],
   "source": [
    "df.info()"
   ]
  },
  {
   "cell_type": "code",
   "execution_count": null,
   "metadata": {},
   "outputs": [],
   "source": []
  },
  {
   "cell_type": "code",
   "execution_count": 11,
   "metadata": {},
   "outputs": [
    {
     "data": {
      "text/plain": [
       "Timestamp('2016-01-11 17:41:16.800000')"
      ]
     },
     "execution_count": 11,
     "metadata": {},
     "output_type": "execute_result"
    }
   ],
   "source": [
    "startingdate=df.loc[656,'Date']\n",
    "startingdate"
   ]
  },
  {
   "cell_type": "code",
   "execution_count": 12,
   "metadata": {},
   "outputs": [
    {
     "data": {
      "text/plain": [
       "1"
      ]
     },
     "execution_count": 12,
     "metadata": {},
     "output_type": "execute_result"
    }
   ],
   "source": [
    "startingdate.month"
   ]
  },
  {
   "cell_type": "code",
   "execution_count": 13,
   "metadata": {},
   "outputs": [
    {
     "data": {
      "text/plain": [
       "11"
      ]
     },
     "execution_count": 13,
     "metadata": {},
     "output_type": "execute_result"
    }
   ],
   "source": [
    "startingdate.day"
   ]
  },
  {
   "cell_type": "code",
   "execution_count": 14,
   "metadata": {},
   "outputs": [],
   "source": [
    "def minofcall(t):    \n",
    "    li=[]\n",
    "    li=str(t).split(':')\n",
    "    if int(li[1])<3:\n",
    "        return 'less'\n",
    "    else: \n",
    "        return 'more'"
   ]
  },
  {
   "cell_type": "code",
   "execution_count": 15,
   "metadata": {},
   "outputs": [],
   "source": [
    "\n",
    "def weekstats(x):\n",
    "    df1=df[df['week']==x]\n",
    "    df2=df1[df1['Answered (Y/N)']=='Y']\n",
    "    df3=df1[df1['Speed of Answer']!='NaN']\n",
    "    tcalls = df1['Call Id'].count()\n",
    "    callsans=df2['Call Id'].count()\n",
    "    avgspdofans=df3['Speed of Answer'].mean()\n",
    "    abndnrate=(((tcalls-callsans)/tcalls)*100)\n",
    "    satisfaction_rate= df1['Satisfaction rating'].mean()\n",
    "    df2['LessorMore']= df2['AvgTalkDuration'].map(minofcall)\n",
    "    df4=df2[df2['LessorMore']=='less']\n",
    "    shrtcalss=df4['LessorMore'].count()\n",
    "    shrtcalssper=(((callsans-shrtcalss)/callsans)*100)\n",
    "    satisfaction=df2.where(df2['Satisfaction rating']<4)['Call Id'].count()\n",
    "    print(\"Total calls of the week:-\",tcalls)\n",
    "    print(\"Tatal calls answered:-\",callsans)\n",
    "    print(\"The average speed of answer:-\",avgspdofans)\n",
    "    print(\"The Call abandon rate:-\",abndnrate)\n",
    "    print(\"The Overall satisfaction:-\",satisfaction_rate)\n",
    "    print(\"The Number of calls less than 180 seconds:-\",shrtcalss)\n",
    "    print(\"Rate of call with less than 180 second duration:-\",shrtcalssper)\n",
    "    print(\"Calls with # or less than 3 satisfaction rate:-\",satisfaction)\n",
    "    "
   ]
  },
  {
   "cell_type": "code",
   "execution_count": 16,
   "metadata": {},
   "outputs": [
    {
     "data": {
      "application/vnd.jupyter.widget-view+json": {
       "model_id": "1f048575cf63431a82ffc915f75c94b6",
       "version_major": 2,
       "version_minor": 0
      },
      "text/plain": [
       "interactive(children=(Dropdown(description='x', options=(53, 1, 2, 3, 4), value=53), Output()), _dom_classes=(…"
      ]
     },
     "metadata": {},
     "output_type": "display_data"
    },
    {
     "data": {
      "text/plain": [
       "<function __main__.weekstats(x)>"
      ]
     },
     "execution_count": 16,
     "metadata": {},
     "output_type": "execute_result"
    }
   ],
   "source": [
    "interact(weekstats,x=df['week'].unique())"
   ]
  },
  {
   "cell_type": "code",
   "execution_count": 17,
   "metadata": {
    "scrolled": true
   },
   "outputs": [
    {
     "name": "stdout",
     "output_type": "stream",
     "text": [
      "Total calls of the week:- 390\n",
      "Tatal calls answered:- 322\n",
      "The average speed of answer:- 66.73913043478261\n",
      "The Call abandon rate:- 17.435897435897434\n",
      "The Overall satisfaction:- 3.437888198757764\n",
      "The Number of calls less than 180 seconds:- 129\n",
      "Rate of call with less than 180 second duration:- 59.93788819875776\n",
      "Calls with # or less than 3 satisfaction rate:- 164\n"
     ]
    },
    {
     "name": "stderr",
     "output_type": "stream",
     "text": [
      "C:\\Users\\MUKUL\\Anaconda3\\lib\\site-packages\\ipykernel_launcher.py:10: SettingWithCopyWarning: \n",
      "A value is trying to be set on a copy of a slice from a DataFrame.\n",
      "Try using .loc[row_indexer,col_indexer] = value instead\n",
      "\n",
      "See the caveats in the documentation: http://pandas.pydata.org/pandas-docs/stable/user_guide/indexing.html#returning-a-view-versus-a-copy\n",
      "  # Remove the CWD from sys.path while we load stuff.\n"
     ]
    }
   ],
   "source": [
    "weekstats(2)"
   ]
  },
  {
   "cell_type": "code",
   "execution_count": 18,
   "metadata": {},
   "outputs": [],
   "source": [
    "def agentinfo(ag):\n",
    "    dfa=df[df['Agent']==ag]\n",
    "    totcalls=dfa['Call Id'].count()\n",
    "    dfan=dfa[dfa['Answered (Y/N)']=='Y']\n",
    "    cans=dfan['Call Id'].count()\n",
    "    avgsoa=dfan['Speed of Answer'].mean()\n",
    "    dfres=dfan[dfan['Resolved']=='Y']\n",
    "    rescalls=dfres['Resolved'].count()\n",
    "    Rateofrescalls=(((rescalls)/cans)*100)\n",
    "    print(\"Total calls for an Agent:-\",totcalls)\n",
    "    print(\"Total calls answered by an Agent:-\",cans)\n",
    "    print(\"Average spped of answering calls by an Agent:-\",avgsoa)\n",
    "    print(\"Total number of resolved calls:-\",rescalls)\n",
    "    print(\"Percentage of resoved calls:-\",Rateofrescalls,\"%\")"
   ]
  },
  {
   "cell_type": "code",
   "execution_count": 19,
   "metadata": {},
   "outputs": [
    {
     "data": {
      "application/vnd.jupyter.widget-view+json": {
       "model_id": "a27bd08ad67f453d92874895bf8ddb78",
       "version_major": 2,
       "version_minor": 0
      },
      "text/plain": [
       "interactive(children=(Dropdown(description='ag', options=('Diane', 'Becky', 'Stewart', 'Greg', 'Jim', 'Joe', '…"
      ]
     },
     "metadata": {},
     "output_type": "display_data"
    },
    {
     "data": {
      "text/plain": [
       "<function __main__.agentinfo(ag)>"
      ]
     },
     "execution_count": 19,
     "metadata": {},
     "output_type": "execute_result"
    }
   ],
   "source": [
    "interact(agentinfo,ag=df['Agent'].unique())"
   ]
  },
  {
   "cell_type": "code",
   "execution_count": 20,
   "metadata": {},
   "outputs": [],
   "source": [
    "df['weekday']=df['Date'].dt.dayofweek\n"
   ]
  },
  {
   "cell_type": "code",
   "execution_count": 21,
   "metadata": {},
   "outputs": [],
   "source": [
    "def weekdaydetails(ag):\n",
    "    dfw=df[df['Agent']==ag]\n",
    "    dfw=dfw.sort_values(by='weekday')\n",
    "    for a in dfw['weekday'].unique():\n",
    "        dfw1=dfw[dfw['weekday']==a]\n",
    "        tc=dfw1['Call Id'].count()\n",
    "        dfw2=dfw1[dfw1['Answered (Y/N)']=='Y']\n",
    "        ca=dfw2['Call Id'].count()\n",
    "        asoa=dfw2['Speed of Answer'].mean()\n",
    "        dfw3=dfw2[dfw2['Resolved']=='Y']\n",
    "        rcalls=dfw3['Resolved'].count()\n",
    "        Rateofrcalls=(((rcalls)/ca)*100)\n",
    "        print(\"WEEKDAY WISE AGENT DATA\")\n",
    "        print(\"    For Day : \",a+1)\n",
    "        print(\"Total calls for an Agent:\",tc)\n",
    "        print(\"Total calls answered:\",ca)\n",
    "        print(\"Average Speed of Answering the call:\",asoa)\n",
    "        print(\"Total number of resolved calls:\",rcalls)\n",
    "        print(\"Rate of resolved calls:\",Rateofrcalls)\n",
    "        \n",
    "        \n",
    "    \n",
    "    "
   ]
  },
  {
   "cell_type": "code",
   "execution_count": 22,
   "metadata": {},
   "outputs": [
    {
     "data": {
      "application/vnd.jupyter.widget-view+json": {
       "model_id": "f87e1449a0d947e8b859db3fce062146",
       "version_major": 2,
       "version_minor": 0
      },
      "text/plain": [
       "interactive(children=(Dropdown(description='ag', options=('Diane', 'Becky', 'Stewart', 'Greg', 'Jim', 'Joe', '…"
      ]
     },
     "metadata": {},
     "output_type": "display_data"
    },
    {
     "data": {
      "text/plain": [
       "<function __main__.weekdaydetails(ag)>"
      ]
     },
     "execution_count": 22,
     "metadata": {},
     "output_type": "execute_result"
    }
   ],
   "source": [
    "interact(weekdaydetails,ag=df['Agent'].unique())"
   ]
  },
  {
   "cell_type": "code",
   "execution_count": 23,
   "metadata": {},
   "outputs": [],
   "source": [
    "def departmentdetails(dpt):\n",
    "    dfd=df[df['Department']==dpt]\n",
    "    totc=dfd['Call Id'].count()\n",
    "    dfd1=dfd[dfd['Answered (Y/N)']=='Y']\n",
    "    cla=dfd1['Call Id'].count()\n",
    "    avsoa=dfd1['Speed of Answer'].mean()\n",
    "    dfd2=dfd1[dfd1['Resolved']=='Y']\n",
    "    reca=dfd2['Resolved'].count()\n",
    "    Ratereca=(((reca)/cla)*100)\n",
    "    print(\"DEPARTMENT WISE DATA\")\n",
    "    print(\"    For Department : \",dpt)\n",
    "    print(\"Total calls for department:\",totc)\n",
    "    print(\"Total calls answered:\",cla)\n",
    "    print(\"Average Speed of Answering the call:\",avsoa)\n",
    "    print(\"Total number of resolved calls:\",reca)\n",
    "    print(\"Rate of resolved calls:\",Ratereca)\n",
    "    "
   ]
  },
  {
   "cell_type": "code",
   "execution_count": 24,
   "metadata": {},
   "outputs": [
    {
     "data": {
      "application/vnd.jupyter.widget-view+json": {
       "model_id": "159febb89b524bcbb43100ef4711389a",
       "version_major": 2,
       "version_minor": 0
      },
      "text/plain": [
       "interactive(children=(Dropdown(description='dpt', options=('Washing Machine', 'Air Conditioner', 'Toaster', 'F…"
      ]
     },
     "metadata": {},
     "output_type": "display_data"
    },
    {
     "data": {
      "text/plain": [
       "<function __main__.departmentdetails(dpt)>"
      ]
     },
     "execution_count": 24,
     "metadata": {},
     "output_type": "execute_result"
    }
   ],
   "source": [
    "interact(departmentdetails,dpt=df['Department'].unique())"
   ]
  },
  {
   "cell_type": "code",
   "execution_count": 25,
   "metadata": {},
   "outputs": [],
   "source": [
    "def departmentSLA(dpt):\n",
    "    dfd=df[df['Department']==dpt]\n",
    "    totc=dfd['Call Id'].count()\n",
    "    dfd1=dfd[dfd['Answered (Y/N)']=='Y']\n",
    "    cla=dfd1['Call Id'].count()\n",
    "    abandncalls=(totc-cla)\n",
    "    abandonrate=(((abandncalls)/totc)*100)\n",
    "    print(\"DEPARTMENT WISE DATA\")\n",
    "    print(\"    For Department : \",dpt)\n",
    "    print(\"Total calls for department:\",totc)\n",
    "    print(\"Total calls answered:\",cla)\n",
    "    print(\"Abandoned calls:\",abandncalls)\n",
    "    print(\"Rate of Abandoned Calls:\",abandonrate,\"%\")\n",
    "    if abandonrate>20:\n",
    "        print(\"SLA BREACHED\")"
   ]
  },
  {
   "cell_type": "code",
   "execution_count": 26,
   "metadata": {
    "scrolled": true
   },
   "outputs": [
    {
     "data": {
      "application/vnd.jupyter.widget-view+json": {
       "model_id": "f3b75f364a0e4f27a1313051f0cf6a16",
       "version_major": 2,
       "version_minor": 0
      },
      "text/plain": [
       "interactive(children=(Dropdown(description='dpt', options=('Washing Machine', 'Air Conditioner', 'Toaster', 'F…"
      ]
     },
     "metadata": {},
     "output_type": "display_data"
    },
    {
     "data": {
      "text/plain": [
       "<function __main__.departmentSLA(dpt)>"
      ]
     },
     "execution_count": 26,
     "metadata": {},
     "output_type": "execute_result"
    }
   ],
   "source": [
    "interact(departmentSLA,dpt=df['Department'].unique())"
   ]
  },
  {
   "cell_type": "code",
   "execution_count": 27,
   "metadata": {},
   "outputs": [
    {
     "name": "stdout",
     "output_type": "stream",
     "text": [
      "19.93006993006993 32.11678832116788 18.0327868852459 19.047619047619047 20.50473186119874\n"
     ]
    }
   ],
   "source": [
    "dept=df['Department'].unique()\n",
    "dept\n",
    "abd=[]\n",
    "for a in dept:\n",
    "    dfd=df[df['Department']==a]\n",
    "    totc=dfd['Call Id'].count()\n",
    "    dfd1=dfd[dfd['Answered (Y/N)']=='Y']\n",
    "    cla=dfd1['Call Id'].count()\n",
    "    abandncalls=(totc-cla)\n",
    "    abandonrate=(((abandncalls)/cla)*100)\n",
    "    #round(abandonrate,2)\n",
    "    abd.append(abandonrate)\n",
    "    \n",
    "print(*abd)\n",
    "\n",
    "    \n",
    "        "
   ]
  },
  {
   "cell_type": "code",
   "execution_count": 28,
   "metadata": {},
   "outputs": [],
   "source": [
    "abd=list(np.around(np.array(abd),2))"
   ]
  },
  {
   "cell_type": "code",
   "execution_count": 29,
   "metadata": {},
   "outputs": [
    {
     "data": {
      "text/plain": [
       "[19.93, 32.12, 18.03, 19.05, 20.5]"
      ]
     },
     "execution_count": 29,
     "metadata": {},
     "output_type": "execute_result"
    }
   ],
   "source": [
    "abd"
   ]
  },
  {
   "cell_type": "code",
   "execution_count": 30,
   "metadata": {},
   "outputs": [],
   "source": [
    "import matplotlib.pyplot as plt"
   ]
  },
  {
   "cell_type": "code",
   "execution_count": 31,
   "metadata": {},
   "outputs": [
    {
     "data": {
      "image/png": "[encoded data removed]",
      "text/plain": [
       "<Figure size 504x360 with 1 Axes>"
      ]
     },
     "metadata": {
      "needs_background": "light"
     },
     "output_type": "display_data"
    }
   ],
   "source": [
    "plt.figure(figsize=(7,5))\n",
    "plt.bar(dept,abd,width=0.3, color='blue', label='AbandonRate')\n",
    "plt.xlabel(\"Deptartment\")\n",
    "plt.ylabel(\"Call AbandonRate\")\n",
    "for i in range(len(dept)):\n",
    "    plt.annotate(xy=[dept[i],abd[i]+.25],s=abd[i])\n",
    "plt.ylim(5,40)\n",
    "plt.bar(dept[abd.index(max(abd))],\n",
    "        max(abd),width=0.3, color='red', label='SLA-B')\n",
    "plt.axhline(y=22,xmin=0.02, xmax=0.98, ls='--')\n",
    "plt.xticks(rotation=60)\n",
    "plt.legend()\n",
    "plt.show()\n"
   ]
  },
  {
   "cell_type": "code",
   "execution_count": 32,
   "metadata": {},
   "outputs": [
    {
     "name": "stdout",
     "output_type": "stream",
     "text": [
      "3.427027027027027 3.384180790960452 3.4838709677419355 3.5260115606936417 3.4331550802139037 3.3548387096774195 3.543859649122807 3.4894736842105263\n"
     ]
    }
   ],
   "source": [
    "agnt=df['Agent'].unique()\n",
    "agnt\n",
    "sta=[]\n",
    "for b in agnt:\n",
    "    dfa=df[df['Agent']==b]\n",
    "    dfan=dfa[dfa['Answered (Y/N)']=='Y']\n",
    "    osatisfaction=dfan['Satisfaction rating'].mean()\n",
    "    sta.append(osatisfaction)\n",
    "print(*sta)    "
   ]
  },
  {
   "cell_type": "code",
   "execution_count": 33,
   "metadata": {},
   "outputs": [],
   "source": [
    "sta=list(np.around(np.array(sta),2))"
   ]
  },
  {
   "cell_type": "code",
   "execution_count": 34,
   "metadata": {},
   "outputs": [
    {
     "data": {
      "text/plain": [
       "[3.43, 3.38, 3.48, 3.53, 3.43, 3.35, 3.54, 3.49]"
      ]
     },
     "execution_count": 34,
     "metadata": {},
     "output_type": "execute_result"
    }
   ],
   "source": [
    "sta"
   ]
  },
  {
   "cell_type": "code",
   "execution_count": 35,
   "metadata": {},
   "outputs": [
    {
     "data": {
      "image/png": "[encoded data removed]",
      "text/plain": [
       "<Figure size 504x504 with 1 Axes>"
      ]
     },
     "metadata": {
      "needs_background": "light"
     },
     "output_type": "display_data"
    }
   ],
   "source": [
    "plt.figure(figsize=(7,7))\n",
    "plt.barh(agnt,sta, color='#2ECEDF70', label='Overall Satisfaction Rate')\n",
    "plt.xlabel(\"Satisfaction Rate\")\n",
    "plt.ylabel(\"Agent Name\")\n",
    "# for i in range(len(agnt)):\n",
    "#     plt.annotate(xy=[sta[i],agnt[i]+.25],s=sta[i])\n",
    "plt.xlim(0,6)\n",
    "plt.axvline(x=3.5,ymin=0.02,ymax=0.98,ls='--')\n",
    "# plt.bar(dept[abd.index(max(abd))],\n",
    "#         max(abd),width=0.3, color='red', label='SLA-B')\n",
    "#plt.axhline(y=22,xmin=0.02, xmax=0.98, ls='--')\n",
    "#plt.xticks(rotation=90)\n",
    "plt.legend(loc=1)\n",
    "plt.show()\n"
   ]
  },
  {
   "cell_type": "code",
   "execution_count": null,
   "metadata": {},
   "outputs": [],
   "source": []
  },
  {
   "cell_type": "code",
   "execution_count": null,
   "metadata": {},
   "outputs": [],
   "source": []
  },
  {
   "cell_type": "code",
   "execution_count": null,
   "metadata": {},
   "outputs": [],
   "source": []
  },
  {
   "cell_type": "code",
   "execution_count": null,
   "metadata": {},
   "outputs": [],
   "source": []
  }
 ],
 "metadata": {
  "kernelspec": {
   "display_name": "Python 3",
   "language": "python",
   "name": "python3"
  },
  "language_info": {
   "codemirror_mode": {
    "name": "ipython",
    "version": 3
   },
   "file_extension": ".py",
   "mimetype": "text/x-python",
   "name": "python",
   "nbconvert_exporter": "python",
   "pygments_lexer": "ipython3",
   "version": "3.7.4"
  }
 },
 "nbformat": 4,
 "nbformat_minor": 2
}
